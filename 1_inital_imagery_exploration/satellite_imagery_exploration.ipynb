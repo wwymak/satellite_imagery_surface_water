{
 "cells": [
  {
   "cell_type": "code",
   "execution_count": 13,
   "metadata": {
    "scrolled": true
   },
   "outputs": [
    {
     "name": "stdout",
     "output_type": "stream",
     "text": [
      "The autoreload extension is already loaded. To reload it, use:\n",
      "  %reload_ext autoreload\n"
     ]
    }
   ],
   "source": [
    "import rasterio\n",
    "from sentinelsat import SentinelAPI, read_geojson, geojson_to_wkt\n",
    "from datetime import date\n",
    "from collections import OrderedDict\n",
    "from shapely.geometry import Point, Polygon\n",
    "from pathlib import Path\n",
    "import os\n",
    "from rasterio.enums import ColorInterp\n",
    "from rasterio.enums import Resampling\n",
    "from PIL import Image\n",
    "import tensorflow as tf\n",
    "import matplotlib.pyplot as plt\n",
    "%load_ext autoreload\n",
    "%autoreload 2\n",
    "%matplotlib  inline"
   ]
  },
  {
   "cell_type": "markdown",
   "metadata": {},
   "source": [
    "Download image from sentinel2"
   ]
  },
  {
   "cell_type": "code",
   "execution_count": 3,
   "metadata": {},
   "outputs": [],
   "source": [
    "sentinel_user = os.environ['copernicus_sentinel_user']\n",
    "sentinel_password = os.environ['copernicus_sentinel_password']\n",
    "\n",
    "api = SentinelAPI(sentinel_user,sentinel_password, 'https://scihub.copernicus.eu/dhus')"
   ]
  },
  {
   "cell_type": "code",
   "execution_count": 4,
   "metadata": {},
   "outputs": [],
   "source": [
    "# construct london's bounding box\n",
    "pointList = [Point(-0.5103751, 51.2867602), Point(-0.3340155, 51.2867602),  Point(-0.3340155,51.6918741),  Point(-0.5103751,51.6918741)]\n",
    "london_poly = Polygon([[p.x, p.y] for p in pointList])\n"
   ]
  },
  {
   "cell_type": "code",
   "execution_count": 5,
   "metadata": {
    "scrolled": true
   },
   "outputs": [
    {
     "data": {
      "text/html": [
       "<div>\n",
       "<style scoped>\n",
       "    .dataframe tbody tr th:only-of-type {\n",
       "        vertical-align: middle;\n",
       "    }\n",
       "\n",
       "    .dataframe tbody tr th {\n",
       "        vertical-align: top;\n",
       "    }\n",
       "\n",
       "    .dataframe thead th {\n",
       "        text-align: right;\n",
       "    }\n",
       "</style>\n",
       "<table border=\"1\" class=\"dataframe\">\n",
       "  <thead>\n",
       "    <tr style=\"text-align: right;\">\n",
       "      <th></th>\n",
       "      <th>title</th>\n",
       "      <th>link</th>\n",
       "      <th>link_alternative</th>\n",
       "      <th>link_icon</th>\n",
       "      <th>summary</th>\n",
       "      <th>beginposition</th>\n",
       "      <th>endposition</th>\n",
       "      <th>ingestiondate</th>\n",
       "      <th>orbitnumber</th>\n",
       "      <th>relativeorbitnumber</th>\n",
       "      <th>...</th>\n",
       "      <th>instrumentshortname</th>\n",
       "      <th>size</th>\n",
       "      <th>s2datatakeid</th>\n",
       "      <th>producttype</th>\n",
       "      <th>platformidentifier</th>\n",
       "      <th>orbitdirection</th>\n",
       "      <th>platformserialidentifier</th>\n",
       "      <th>processinglevel</th>\n",
       "      <th>identifier</th>\n",
       "      <th>uuid</th>\n",
       "    </tr>\n",
       "  </thead>\n",
       "  <tbody>\n",
       "    <tr>\n",
       "      <th>20bb15e3-79b4-4e25-92f4-8e18a63c0e11</th>\n",
       "      <td>S2B_MSIL2A_20200627T105619_N0214_R094_T30UXB_2...</td>\n",
       "      <td>https://scihub.copernicus.eu/dhus/odata/v1/Pro...</td>\n",
       "      <td>https://scihub.copernicus.eu/dhus/odata/v1/Pro...</td>\n",
       "      <td>https://scihub.copernicus.eu/dhus/odata/v1/Pro...</td>\n",
       "      <td>Date: 2020-06-27T10:56:19.024Z, Instrument: MS...</td>\n",
       "      <td>2020-06-27 10:56:19.024</td>\n",
       "      <td>2020-06-27 10:56:19.024</td>\n",
       "      <td>2020-06-27 20:51:30.250</td>\n",
       "      <td>17280</td>\n",
       "      <td>94</td>\n",
       "      <td>...</td>\n",
       "      <td>MSI</td>\n",
       "      <td>437.43 MB</td>\n",
       "      <td>GS2B_20200627T105619_017280_N02.14</td>\n",
       "      <td>S2MSI2A</td>\n",
       "      <td>2017-013A</td>\n",
       "      <td>DESCENDING</td>\n",
       "      <td>Sentinel-2B</td>\n",
       "      <td>Level-2A</td>\n",
       "      <td>S2B_MSIL2A_20200627T105619_N0214_R094_T30UXB_2...</td>\n",
       "      <td>20bb15e3-79b4-4e25-92f4-8e18a63c0e11</td>\n",
       "    </tr>\n",
       "    <tr>\n",
       "      <th>e02d43c3-e82e-4cc7-a66a-cdfa9e378f48</th>\n",
       "      <td>S2B_MSIL2A_20200627T105619_N0214_R094_T30UXC_2...</td>\n",
       "      <td>https://scihub.copernicus.eu/dhus/odata/v1/Pro...</td>\n",
       "      <td>https://scihub.copernicus.eu/dhus/odata/v1/Pro...</td>\n",
       "      <td>https://scihub.copernicus.eu/dhus/odata/v1/Pro...</td>\n",
       "      <td>Date: 2020-06-27T10:56:19.024Z, Instrument: MS...</td>\n",
       "      <td>2020-06-27 10:56:19.024</td>\n",
       "      <td>2020-06-27 10:56:19.024</td>\n",
       "      <td>2020-06-27 20:51:16.949</td>\n",
       "      <td>17280</td>\n",
       "      <td>94</td>\n",
       "      <td>...</td>\n",
       "      <td>MSI</td>\n",
       "      <td>257.33 MB</td>\n",
       "      <td>GS2B_20200627T105619_017280_N02.14</td>\n",
       "      <td>S2MSI2A</td>\n",
       "      <td>2017-013A</td>\n",
       "      <td>DESCENDING</td>\n",
       "      <td>Sentinel-2B</td>\n",
       "      <td>Level-2A</td>\n",
       "      <td>S2B_MSIL2A_20200627T105619_N0214_R094_T30UXC_2...</td>\n",
       "      <td>e02d43c3-e82e-4cc7-a66a-cdfa9e378f48</td>\n",
       "    </tr>\n",
       "    <tr>\n",
       "      <th>811b432c-41c0-4926-b9e6-2aa9937a4cf5</th>\n",
       "      <td>S2A_MSIL2A_20200625T110631_N0214_R137_T30UXB_2...</td>\n",
       "      <td>https://scihub.copernicus.eu/dhus/odata/v1/Pro...</td>\n",
       "      <td>https://scihub.copernicus.eu/dhus/odata/v1/Pro...</td>\n",
       "      <td>https://scihub.copernicus.eu/dhus/odata/v1/Pro...</td>\n",
       "      <td>Date: 2020-06-25T11:06:31.025Z, Instrument: MS...</td>\n",
       "      <td>2020-06-25 11:06:31.025</td>\n",
       "      <td>2020-06-25 11:06:31.025</td>\n",
       "      <td>2020-06-25 19:05:59.670</td>\n",
       "      <td>26160</td>\n",
       "      <td>137</td>\n",
       "      <td>...</td>\n",
       "      <td>MSI</td>\n",
       "      <td>1.03 GB</td>\n",
       "      <td>GS2A_20200625T110631_026160_N02.14</td>\n",
       "      <td>S2MSI2A</td>\n",
       "      <td>2015-028A</td>\n",
       "      <td>DESCENDING</td>\n",
       "      <td>Sentinel-2A</td>\n",
       "      <td>Level-2A</td>\n",
       "      <td>S2A_MSIL2A_20200625T110631_N0214_R137_T30UXB_2...</td>\n",
       "      <td>811b432c-41c0-4926-b9e6-2aa9937a4cf5</td>\n",
       "    </tr>\n",
       "    <tr>\n",
       "      <th>7b12c25e-7623-4a6b-91eb-d68d23cf2141</th>\n",
       "      <td>S2A_MSIL2A_20200625T110631_N0214_R137_T30UXC_2...</td>\n",
       "      <td>https://scihub.copernicus.eu/dhus/odata/v1/Pro...</td>\n",
       "      <td>https://scihub.copernicus.eu/dhus/odata/v1/Pro...</td>\n",
       "      <td>https://scihub.copernicus.eu/dhus/odata/v1/Pro...</td>\n",
       "      <td>Date: 2020-06-25T11:06:31.025Z, Instrument: MS...</td>\n",
       "      <td>2020-06-25 11:06:31.025</td>\n",
       "      <td>2020-06-25 11:06:31.025</td>\n",
       "      <td>2020-06-25 18:53:45.129</td>\n",
       "      <td>26160</td>\n",
       "      <td>137</td>\n",
       "      <td>...</td>\n",
       "      <td>MSI</td>\n",
       "      <td>1.12 GB</td>\n",
       "      <td>GS2A_20200625T110631_026160_N02.14</td>\n",
       "      <td>S2MSI2A</td>\n",
       "      <td>2015-028A</td>\n",
       "      <td>DESCENDING</td>\n",
       "      <td>Sentinel-2A</td>\n",
       "      <td>Level-2A</td>\n",
       "      <td>S2A_MSIL2A_20200625T110631_N0214_R137_T30UXC_2...</td>\n",
       "      <td>7b12c25e-7623-4a6b-91eb-d68d23cf2141</td>\n",
       "    </tr>\n",
       "  </tbody>\n",
       "</table>\n",
       "<p>4 rows × 36 columns</p>\n",
       "</div>"
      ],
      "text/plain": [
       "                                                                                  title  \\\n",
       "20bb15e3-79b4-4e25-92f4-8e18a63c0e11  S2B_MSIL2A_20200627T105619_N0214_R094_T30UXB_2...   \n",
       "e02d43c3-e82e-4cc7-a66a-cdfa9e378f48  S2B_MSIL2A_20200627T105619_N0214_R094_T30UXC_2...   \n",
       "811b432c-41c0-4926-b9e6-2aa9937a4cf5  S2A_MSIL2A_20200625T110631_N0214_R137_T30UXB_2...   \n",
       "7b12c25e-7623-4a6b-91eb-d68d23cf2141  S2A_MSIL2A_20200625T110631_N0214_R137_T30UXC_2...   \n",
       "\n",
       "                                                                                   link  \\\n",
       "20bb15e3-79b4-4e25-92f4-8e18a63c0e11  https://scihub.copernicus.eu/dhus/odata/v1/Pro...   \n",
       "e02d43c3-e82e-4cc7-a66a-cdfa9e378f48  https://scihub.copernicus.eu/dhus/odata/v1/Pro...   \n",
       "811b432c-41c0-4926-b9e6-2aa9937a4cf5  https://scihub.copernicus.eu/dhus/odata/v1/Pro...   \n",
       "7b12c25e-7623-4a6b-91eb-d68d23cf2141  https://scihub.copernicus.eu/dhus/odata/v1/Pro...   \n",
       "\n",
       "                                                                       link_alternative  \\\n",
       "20bb15e3-79b4-4e25-92f4-8e18a63c0e11  https://scihub.copernicus.eu/dhus/odata/v1/Pro...   \n",
       "e02d43c3-e82e-4cc7-a66a-cdfa9e378f48  https://scihub.copernicus.eu/dhus/odata/v1/Pro...   \n",
       "811b432c-41c0-4926-b9e6-2aa9937a4cf5  https://scihub.copernicus.eu/dhus/odata/v1/Pro...   \n",
       "7b12c25e-7623-4a6b-91eb-d68d23cf2141  https://scihub.copernicus.eu/dhus/odata/v1/Pro...   \n",
       "\n",
       "                                                                              link_icon  \\\n",
       "20bb15e3-79b4-4e25-92f4-8e18a63c0e11  https://scihub.copernicus.eu/dhus/odata/v1/Pro...   \n",
       "e02d43c3-e82e-4cc7-a66a-cdfa9e378f48  https://scihub.copernicus.eu/dhus/odata/v1/Pro...   \n",
       "811b432c-41c0-4926-b9e6-2aa9937a4cf5  https://scihub.copernicus.eu/dhus/odata/v1/Pro...   \n",
       "7b12c25e-7623-4a6b-91eb-d68d23cf2141  https://scihub.copernicus.eu/dhus/odata/v1/Pro...   \n",
       "\n",
       "                                                                                summary  \\\n",
       "20bb15e3-79b4-4e25-92f4-8e18a63c0e11  Date: 2020-06-27T10:56:19.024Z, Instrument: MS...   \n",
       "e02d43c3-e82e-4cc7-a66a-cdfa9e378f48  Date: 2020-06-27T10:56:19.024Z, Instrument: MS...   \n",
       "811b432c-41c0-4926-b9e6-2aa9937a4cf5  Date: 2020-06-25T11:06:31.025Z, Instrument: MS...   \n",
       "7b12c25e-7623-4a6b-91eb-d68d23cf2141  Date: 2020-06-25T11:06:31.025Z, Instrument: MS...   \n",
       "\n",
       "                                               beginposition  \\\n",
       "20bb15e3-79b4-4e25-92f4-8e18a63c0e11 2020-06-27 10:56:19.024   \n",
       "e02d43c3-e82e-4cc7-a66a-cdfa9e378f48 2020-06-27 10:56:19.024   \n",
       "811b432c-41c0-4926-b9e6-2aa9937a4cf5 2020-06-25 11:06:31.025   \n",
       "7b12c25e-7623-4a6b-91eb-d68d23cf2141 2020-06-25 11:06:31.025   \n",
       "\n",
       "                                                 endposition  \\\n",
       "20bb15e3-79b4-4e25-92f4-8e18a63c0e11 2020-06-27 10:56:19.024   \n",
       "e02d43c3-e82e-4cc7-a66a-cdfa9e378f48 2020-06-27 10:56:19.024   \n",
       "811b432c-41c0-4926-b9e6-2aa9937a4cf5 2020-06-25 11:06:31.025   \n",
       "7b12c25e-7623-4a6b-91eb-d68d23cf2141 2020-06-25 11:06:31.025   \n",
       "\n",
       "                                               ingestiondate  orbitnumber  \\\n",
       "20bb15e3-79b4-4e25-92f4-8e18a63c0e11 2020-06-27 20:51:30.250        17280   \n",
       "e02d43c3-e82e-4cc7-a66a-cdfa9e378f48 2020-06-27 20:51:16.949        17280   \n",
       "811b432c-41c0-4926-b9e6-2aa9937a4cf5 2020-06-25 19:05:59.670        26160   \n",
       "7b12c25e-7623-4a6b-91eb-d68d23cf2141 2020-06-25 18:53:45.129        26160   \n",
       "\n",
       "                                      relativeorbitnumber  ...  \\\n",
       "20bb15e3-79b4-4e25-92f4-8e18a63c0e11                   94  ...   \n",
       "e02d43c3-e82e-4cc7-a66a-cdfa9e378f48                   94  ...   \n",
       "811b432c-41c0-4926-b9e6-2aa9937a4cf5                  137  ...   \n",
       "7b12c25e-7623-4a6b-91eb-d68d23cf2141                  137  ...   \n",
       "\n",
       "                                      instrumentshortname       size  \\\n",
       "20bb15e3-79b4-4e25-92f4-8e18a63c0e11                  MSI  437.43 MB   \n",
       "e02d43c3-e82e-4cc7-a66a-cdfa9e378f48                  MSI  257.33 MB   \n",
       "811b432c-41c0-4926-b9e6-2aa9937a4cf5                  MSI    1.03 GB   \n",
       "7b12c25e-7623-4a6b-91eb-d68d23cf2141                  MSI    1.12 GB   \n",
       "\n",
       "                                                            s2datatakeid  \\\n",
       "20bb15e3-79b4-4e25-92f4-8e18a63c0e11  GS2B_20200627T105619_017280_N02.14   \n",
       "e02d43c3-e82e-4cc7-a66a-cdfa9e378f48  GS2B_20200627T105619_017280_N02.14   \n",
       "811b432c-41c0-4926-b9e6-2aa9937a4cf5  GS2A_20200625T110631_026160_N02.14   \n",
       "7b12c25e-7623-4a6b-91eb-d68d23cf2141  GS2A_20200625T110631_026160_N02.14   \n",
       "\n",
       "                                      producttype  platformidentifier  \\\n",
       "20bb15e3-79b4-4e25-92f4-8e18a63c0e11      S2MSI2A           2017-013A   \n",
       "e02d43c3-e82e-4cc7-a66a-cdfa9e378f48      S2MSI2A           2017-013A   \n",
       "811b432c-41c0-4926-b9e6-2aa9937a4cf5      S2MSI2A           2015-028A   \n",
       "7b12c25e-7623-4a6b-91eb-d68d23cf2141      S2MSI2A           2015-028A   \n",
       "\n",
       "                                      orbitdirection  \\\n",
       "20bb15e3-79b4-4e25-92f4-8e18a63c0e11      DESCENDING   \n",
       "e02d43c3-e82e-4cc7-a66a-cdfa9e378f48      DESCENDING   \n",
       "811b432c-41c0-4926-b9e6-2aa9937a4cf5      DESCENDING   \n",
       "7b12c25e-7623-4a6b-91eb-d68d23cf2141      DESCENDING   \n",
       "\n",
       "                                      platformserialidentifier  \\\n",
       "20bb15e3-79b4-4e25-92f4-8e18a63c0e11               Sentinel-2B   \n",
       "e02d43c3-e82e-4cc7-a66a-cdfa9e378f48               Sentinel-2B   \n",
       "811b432c-41c0-4926-b9e6-2aa9937a4cf5               Sentinel-2A   \n",
       "7b12c25e-7623-4a6b-91eb-d68d23cf2141               Sentinel-2A   \n",
       "\n",
       "                                      processinglevel  \\\n",
       "20bb15e3-79b4-4e25-92f4-8e18a63c0e11         Level-2A   \n",
       "e02d43c3-e82e-4cc7-a66a-cdfa9e378f48         Level-2A   \n",
       "811b432c-41c0-4926-b9e6-2aa9937a4cf5         Level-2A   \n",
       "7b12c25e-7623-4a6b-91eb-d68d23cf2141         Level-2A   \n",
       "\n",
       "                                                                             identifier  \\\n",
       "20bb15e3-79b4-4e25-92f4-8e18a63c0e11  S2B_MSIL2A_20200627T105619_N0214_R094_T30UXB_2...   \n",
       "e02d43c3-e82e-4cc7-a66a-cdfa9e378f48  S2B_MSIL2A_20200627T105619_N0214_R094_T30UXC_2...   \n",
       "811b432c-41c0-4926-b9e6-2aa9937a4cf5  S2A_MSIL2A_20200625T110631_N0214_R137_T30UXB_2...   \n",
       "7b12c25e-7623-4a6b-91eb-d68d23cf2141  S2A_MSIL2A_20200625T110631_N0214_R137_T30UXC_2...   \n",
       "\n",
       "                                                                      uuid  \n",
       "20bb15e3-79b4-4e25-92f4-8e18a63c0e11  20bb15e3-79b4-4e25-92f4-8e18a63c0e11  \n",
       "e02d43c3-e82e-4cc7-a66a-cdfa9e378f48  e02d43c3-e82e-4cc7-a66a-cdfa9e378f48  \n",
       "811b432c-41c0-4926-b9e6-2aa9937a4cf5  811b432c-41c0-4926-b9e6-2aa9937a4cf5  \n",
       "7b12c25e-7623-4a6b-91eb-d68d23cf2141  7b12c25e-7623-4a6b-91eb-d68d23cf2141  \n",
       "\n",
       "[4 rows x 36 columns]"
      ]
     },
     "execution_count": 5,
     "metadata": {},
     "output_type": "execute_result"
    }
   ],
   "source": [
    "footprint =london_poly.wkt\n",
    "products = api.query(footprint,\n",
    "                     producttype='S2MSI2A',\n",
    "                     date=(\"NOW-7DAY\", \"NOW\"),\n",
    "                     platformname='Sentinel-2')\n",
    "# convert to Pandas DataFrame\n",
    "products_df = api.to_dataframe(products)\n",
    "products_df"
   ]
  },
  {
   "cell_type": "code",
   "execution_count": 7,
   "metadata": {
    "scrolled": true
   },
   "outputs": [
    {
     "name": "stderr",
     "output_type": "stream",
     "text": [
      "Downloading: 100%|██████████| 459M/459M [10:07<00:00, 755kB/s] \n",
      "MD5 checksumming: 100%|██████████| 459M/459M [00:00<00:00, 754MB/s] \n"
     ]
    },
    {
     "data": {
      "text/plain": [
       "{'id': '20bb15e3-79b4-4e25-92f4-8e18a63c0e11',\n",
       " 'title': 'S2B_MSIL2A_20200627T105619_N0214_R094_T30UXB_20200627T134914',\n",
       " 'size': 458731751,\n",
       " 'md5': 'BD88C0248D98C07BEEDE369BF18014E5',\n",
       " 'date': datetime.datetime(2020, 6, 27, 10, 56, 19, 24000),\n",
       " 'footprint': 'POLYGON((-0.9624939 50.44347946588406,-0.92092896 50.54761290588485,-0.86239624 50.69352721174252,-0.80340576 50.83944474651344,-0.74401855 50.98535432299034,-0.6842346 51.131230435741045,-0.62457275 51.27720367563696,-0.56430054 51.42309618134356,-0.56417847 51.423394515717085,0.017025008525814 51.41234265506691,-0.046142578 50.42629366061962,-0.9624939 50.44347946588406))',\n",
       " 'url': \"https://scihub.copernicus.eu/dhus/odata/v1/Products('20bb15e3-79b4-4e25-92f4-8e18a63c0e11')/$value\",\n",
       " 'Online': True,\n",
       " 'Creation Date': datetime.datetime(2020, 6, 27, 20, 52, 20, 507000),\n",
       " 'Ingestion Date': datetime.datetime(2020, 6, 27, 20, 51, 30, 250000),\n",
       " 'path': '/media/wwymak/Storage/surface_water_changes_satellite_data/sentinel/S2B_MSIL2A_20200627T105619_N0214_R094_T30UXB_20200627T134914.zip',\n",
       " 'downloaded_bytes': 359117031}"
      ]
     },
     "execution_count": 7,
     "metadata": {},
     "output_type": "execute_result"
    }
   ],
   "source": [
    "output_directory = Path(\"/media/wwymak/Storage/surface_water_changes_satellite_data/sentinel\")\n",
    "tile_to_download = products_df.title[0]\n",
    "output_filepath = output_directory / tile_to_download\n",
    "api.download(products_df.uuid[0], directory_path=output_directory)"
   ]
  },
  {
   "cell_type": "code",
   "execution_count": 9,
   "metadata": {},
   "outputs": [],
   "source": [
    "!unzip {output_directory/'S2B_MSIL2A_20200627T105619_N0214_R094_T30UXB_20200627T134914.zip'} -d {output_directory} >/dev/null"
   ]
  },
  {
   "cell_type": "code",
   "execution_count": 10,
   "metadata": {},
   "outputs": [
    {
     "data": {
      "text/plain": [
       "['R60m', 'R20m', 'R10m']"
      ]
     },
     "execution_count": 10,
     "metadata": {},
     "output_type": "execute_result"
    }
   ],
   "source": [
    "image_files_directory = output_directory/f'{products_df.title[0]}.SAFE'/'GRANULE'/'L2A_T30UXB_A017280_20200627T105814'/ 'IMG_DATA'\n",
    "os.listdir(image_files_directory)"
   ]
  },
  {
   "cell_type": "markdown",
   "metadata": {},
   "source": [
    "These folders correspond to the different resolutions of the satellite imagery-- sentinel bands come in different resolutions: (https://gisgeography.com/sentinel-2-bands-combinations/)\n",
    "\n",
    "|Band|Resolution|Central Wavelength|Description|\n",
    "|--- |--- |--- |--- |\n",
    "|B1|60 m|443 nm|Ultra blue (Coastal and Aerosol)|\n",
    "|B2|10 m|490 nm|Blue|\n",
    "|B3|10 m|560 nm|Green|\n",
    "|B4|10 m|665 nm|Red|\n",
    "|B5|20 m|705 nm|Visible and Near Infrared (VNIR)|\n",
    "|B6|20 m|740 nm|Visible and Near Infrared (VNIR)|\n",
    "|B7|20 m|783 nm|Visible and Near Infrared (VNIR)|\n",
    "|B8|10 m|842 nm|Visible and Near Infrared (VNIR)|\n",
    "|B8a|20 m|865 nm|Visible and Near Infrared (VNIR)|\n",
    "|B9|60 m|940 nm|Short Wave Infrared (SWIR)|\n",
    "|B10|60 m|1375 nm|Short Wave Infrared (SWIR)|\n",
    "|B11|20 m|1610 nm|Short Wave Infrared (SWIR)|\n",
    "|B12|20 m|2190 nm|Short Wave Infrared (SWIR)|"
   ]
  },
  {
   "cell_type": "markdown",
   "metadata": {},
   "source": [
    "To make a blue, red, green image we want the B2, B3, and B4 bands"
   ]
  },
  {
   "cell_type": "code",
   "execution_count": 6,
   "metadata": {},
   "outputs": [],
   "source": [
    "image_files_directory = Path('/media/wwymak/Storage/surface_water_changes_satellite_data/sentinel')/'S2B_MSIL2A_20200627T105619_N0214_R094_T30UXB_20200627T13491.SAFE'/'GRANULE'/'L2A_T30UXB_A017280_20200627T105814'/ 'IMG_DATA'\n",
    "img_file_b2 = image_files_directory / 'R10m'/'T30UXB_20200627T105619_B02_10m.jp2'\n",
    "img_file_b3 = image_files_directory / 'R10m'/'T30UXB_20200627T105619_B03_10m.jp2'\n",
    "img_file_b4 = image_files_directory / 'R10m'/'T30UXB_20200627T105619_B04_10m.jp2'"
   ]
  },
  {
   "cell_type": "code",
   "execution_count": 12,
   "metadata": {},
   "outputs": [
    {
     "name": "stdout",
     "output_type": "stream",
     "text": [
      "{'driver': 'JP2OpenJPEG', 'dtype': 'uint16', 'nodata': None, 'width': 10980, 'height': 10980, 'count': 1, 'crs': CRS.from_epsg(32630), 'transform': Affine(10.0, 0.0, 600000.0,\n",
      "       0.0, -10.0, 5700000.0), 'blockxsize': 1024, 'blockysize': 1024, 'tiled': True}\n"
     ]
    }
   ],
   "source": [
    "with rasterio.open(img_file_b2, driver='JP2OpenJPEG') as dataset:\n",
    "    array = dataset.read(1)\n",
    "    print(dataset.profile)"
   ]
  },
  {
   "cell_type": "code",
   "execution_count": 13,
   "metadata": {},
   "outputs": [],
   "source": [
    "def write_image(input_filename, output, color_interp):\n",
    "    with rasterio.open(input_filename, driver='JP2OpenJPEG') as src_dataset:\n",
    "        array = src_dataset.read(1)\n",
    "\n",
    "        kwds = src_dataset.profile\n",
    "\n",
    "        # Change the format driver for the destination dataset to\n",
    "        # 'GTiff', short for GeoTIFF.\n",
    "        kwds['driver'] = 'GTiff'\n",
    "\n",
    "        # Add GeoTIFF-specific keyword arguments.\n",
    "        kwds['tiled'] = True\n",
    "        kwds['blockxsize'] = 256\n",
    "        kwds['blockysize'] = 256\n",
    "        kwds['photometric'] = color_interp\n",
    "        kwds['compress'] = 'JPEG'\n",
    "        kwds['dtype']=rasterio.uint8\n",
    "\n",
    "        with rasterio.open(output, 'w', **kwds) as dst_dataset:\n",
    "            # Write data to the destination dataset.\n",
    "            dst_dataset.write(array.astype(rasterio.uint8), 1)"
   ]
  },
  {
   "cell_type": "code",
   "execution_count": 10,
   "metadata": {},
   "outputs": [],
   "source": [
    "output_directory_processed = Path('/media/wwymak/Storage/surface_water_changes_satellite_data/sentinel/S2B_MSIL2A_20200627T105619_N0214_R094_T30UXB_20200627T134914.SAFE/processed')\n",
    "\n",
    "file_list = [output_directory_processed/x for x in ['red.tif', 'green.tif', 'blue.tif']]\n",
    "colors_list = [ColorInterp.red, ColorInterp.green, ColorInterp.blue]\n",
    "input_files = [img_file_b4, img_file_b3, img_file_b2 ]\n",
    "# [write_image(input_file,output_file, color) for input_file,output_file, color in zip(input_files, file_list, colors_list)]\n",
    "\n",
    "# Read metadata of first file\n",
    "with rasterio.open(file_list[0]) as src0:\n",
    "    meta = src0.meta\n",
    "\n",
    "# Update meta to reflect the number of layers\n",
    "meta.update(count = len(file_list), photometric=\"RGB\", width=256, height=256)\n",
    "upscale_factor = 1/30\n",
    "# Read each layer and write it to stack\n",
    "with rasterio.open(output_directory_processed/'stack.tif', 'w', **meta) as dst:\n",
    "    for id, layer in enumerate(file_list, start=1):\n",
    "        with rasterio.open(layer) as dataset:\n",
    "            data = dataset.read(1,\n",
    "                out_shape=(\n",
    "                    dataset.count,\n",
    "                    256, 256\n",
    "                ),\n",
    "                resampling=Resampling.bilinear\n",
    "            )\n",
    "            dst.write_band(id, data)\n",
    "\n",
    "    # scale image transform\n",
    "#     transform = dataset.transform * dataset.transform.scale(\n",
    "#         (dataset.width / data.shape[-1]),\n",
    "#         (dataset.height / data.shape[-2])\n",
    "#     )\n",
    "            "
   ]
  },
  {
   "cell_type": "code",
   "execution_count": 2,
   "metadata": {},
   "outputs": [],
   "source": [
    "output_directory_processed = Path('/media/wwymak/Storage/surface_water_changes_satellite_data/sentinel/S2B_MSIL2A_20200627T105619_N0214_R094_T30UXB_20200627T134914.SAFE/processed')"
   ]
  },
  {
   "cell_type": "code",
   "execution_count": 11,
   "metadata": {},
   "outputs": [],
   "source": [
    "from tensorflow.keras.preprocessing.image import load_img\n",
    "img = load_img(\n",
    "    output_directory_processed/'stack.tif', grayscale=False, color_mode=\"rgb\", target_size=None, interpolation=\"nearest\"\n",
    ")"
   ]
  },
  {
   "cell_type": "code",
   "execution_count": 27,
   "metadata": {},
   "outputs": [
    {
     "data": {
      "image/png": "[encoded data removed]",
      "text/plain": [
       "<PIL.TiffImagePlugin.TiffImageFile image mode=RGB size=256x256 at 0x7F26C7C0A250>"
      ]
     },
     "execution_count": 27,
     "metadata": {},
     "output_type": "execute_result"
    }
   ],
   "source": [
    "img"
   ]
  },
  {
   "cell_type": "code",
   "execution_count": 23,
   "metadata": {},
   "outputs": [
    {
     "data": {
      "text/plain": [
       "dtype('uint8')"
      ]
     },
     "execution_count": 23,
     "metadata": {},
     "output_type": "execute_result"
    }
   ],
   "source": [
    "np.array(img).dtype"
   ]
  },
  {
   "cell_type": "code",
   "execution_count": 25,
   "metadata": {},
   "outputs": [
    {
     "data": {
      "text/plain": [
       "dtype('float32')"
      ]
     },
     "execution_count": 25,
     "metadata": {},
     "output_type": "execute_result"
    }
   ],
   "source": []
  },
  {
   "cell_type": "code",
   "execution_count": null,
   "metadata": {},
   "outputs": [],
   "source": []
  }
 ],
 "metadata": {
  "kernelspec": {
   "display_name": "Python [conda env:tensorflow-dl]",
   "language": "python",
   "name": "conda-env-tensorflow-dl-py"
  },
  "language_info": {
   "codemirror_mode": {
    "name": "ipython",
    "version": 3
   },
   "file_extension": ".py",
   "mimetype": "text/x-python",
   "name": "python",
   "nbconvert_exporter": "python",
   "pygments_lexer": "ipython3",
   "version": "3.7.6"
  }
 },
 "nbformat": 4,
 "nbformat_minor": 2
}
